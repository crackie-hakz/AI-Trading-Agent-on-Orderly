{
 "cells": [
  {
   "cell_type": "code",
   "execution_count": 1,
   "metadata": {},
   "outputs": [
    {
     "data": {
      "text/plain": [
       "False"
      ]
     },
     "execution_count": 1,
     "metadata": {},
     "output_type": "execute_result"
    }
   ],
   "source": [
    "from eth_rpc import *\n",
    "from emp_orderly.onboarding import *\n",
    "from nacl.signing import SigningKey\n",
    "from base58 import b58encode\n",
    "from dotenv import load_dotenv, set_key\n",
    "import os\n",
    "\n",
    "# Load existing .env file if it exists\n",
    "load_dotenv()"
   ]
  },
  {
   "cell_type": "code",
   "execution_count": 2,
   "metadata": {},
   "outputs": [
    {
     "name": "stdout",
     "output_type": "stream",
     "text": [
      "0x0048a64b591da5B1a26e62803aA7E0B580FE8774 0x1966ca8c7aadd823a871b3fe17b7884b084aa9c855a349e220e88d6f002e5b3f\n",
      "Orderly key: ed25519:33UbRfmL2awo3RLvyncLFTf8rybKcCEgjsuJ4vy9KMvd\n"
     ]
    }
   ],
   "source": [
    "# Create a new wallet\n",
    "wallet = PrivateKeyWallet.create_new()\n",
    "print(wallet.address, wallet.private_key)\n",
    "\n",
    "# Create an account with the new wallet\n",
    "acct = await create_account(wallet)\n",
    "\n",
    "# Prepare values to save\n",
    "private_key_hex = wallet.private_key.removeprefix(\"0x\")\n",
    "signing_key = SigningKey(bytes.fromhex(private_key_hex))\n",
    "public_key = signing_key.verify_key\n",
    "key_bytes = public_key.encode()  # nacl uses encode() to get the public key bytes\n",
    "orderly_key = \"ed25519:%s\" % b58encode(key_bytes).decode(\"utf-8\")\n",
    "\n",
    "# Register your new orderly key as a signer for your wallet address\n",
    "result = await add_access_key(wallet, orderly_key)\n",
    "\n",
    "# Print the orderly key\n",
    "print(f\"Orderly key: {orderly_key}\")"
   ]
  },
  {
   "cell_type": "code",
   "execution_count": 3,
   "metadata": {},
   "outputs": [
    {
     "data": {
      "text/plain": [
       "(True,\n",
       " 'ACCOUNT_ID',\n",
       " '0xee537835bb5dbf0e124146b184531df50dcb07bfaceb57d67709e1d414687fcb')"
      ]
     },
     "execution_count": 3,
     "metadata": {},
     "output_type": "execute_result"
    }
   ],
   "source": [
    "# Save values to .env file\n",
    "set_key('.env', 'WALLET_ADDRESS', wallet.address)\n",
    "set_key('.env', 'PVT_HEX', private_key_hex)\n",
    "set_key('.env', 'ORDERLY_KEY', orderly_key)\n",
    "set_key('.env', 'ACCOUNT_ID', str(acct))  # Ensure ACCOUNT_ID is in string format"
   ]
  }
 ],
 "metadata": {
  "kernelspec": {
   "display_name": "venv",
   "language": "python",
   "name": "python3"
  },
  "language_info": {
   "codemirror_mode": {
    "name": "ipython",
    "version": 3
   },
   "file_extension": ".py",
   "mimetype": "text/x-python",
   "name": "python",
   "nbconvert_exporter": "python",
   "pygments_lexer": "ipython3",
   "version": "3.12.1"
  }
 },
 "nbformat": 4,
 "nbformat_minor": 2
}
