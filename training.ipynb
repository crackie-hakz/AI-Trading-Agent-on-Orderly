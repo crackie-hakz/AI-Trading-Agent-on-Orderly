{
 "cells": [
  {
   "cell_type": "code",
   "execution_count": 1,
   "metadata": {},
   "outputs": [],
   "source": [
    "import time\n",
    "import os\n",
    "import warnings\n",
    "import pandas as pd\n",
    "import pandas_ta as ta\n",
    "import joblib\n",
    "import ccxt\n",
    "from google.cloud import bigquery, pubsub_v1\n",
    "from google.oauth2 import service_account\n",
    "from sklearn.model_selection import train_test_split\n",
    "from sklearn.preprocessing import StandardScaler\n",
    "from sklearn.ensemble import GradientBoostingClassifier\n",
    "from sklearn.metrics import accuracy_score, classification_report\n",
    "import json\n",
    "\n",
    "warnings.filterwarnings('ignore')"
   ]
  },
  {
   "cell_type": "code",
   "execution_count": 2,
   "metadata": {},
   "outputs": [],
   "source": [
    "# Load GCP credentials and initialize BigQuery and Pub/Sub clients\n",
    "credentials_path = 'gentle-studio-430913-r4-e2c69efea4c8.json'\n",
    "os.environ[\"GOOGLE_APPLICATION_CREDENTIALS\"] = credentials_path\n",
    "credentials = service_account.Credentials.from_service_account_file(credentials_path)\n",
    "\n",
    "project_id = 'gentle-studio-430913-r4'\n",
    "bq_client = bigquery.Client(credentials=credentials, project=project_id)\n",
    "publisher = pubsub_v1.PublisherClient()\n",
    "pubsub_topic = f'projects/{project_id}/topics/trading_notifications'"
   ]
  },
  {
   "cell_type": "code",
   "execution_count": 3,
   "metadata": {},
   "outputs": [],
   "source": [
    "def get_market_data(exchange_name, pair, time_interval, start_time):\n",
    "    try:\n",
    "        market = getattr(ccxt, exchange_name)()\n",
    "        market.load_markets()\n",
    "        market_data = []\n",
    "        while start_time < time.time() * 1000:\n",
    "            ohlcv = market.fetch_ohlcv(pair, timeframe=time_interval, since=start_time, limit=1000)\n",
    "            if len(ohlcv) == 0:\n",
    "                break\n",
    "            market_data.extend(ohlcv)\n",
    "            start_time = ohlcv[-1][0] + 2\n",
    "            time.sleep(market.rateLimit / 1000)\n",
    "        df = pd.DataFrame(market_data, columns=['timestamp', 'open', 'high', 'low', 'close', 'volume'])\n",
    "        df['timestamp'] = pd.to_datetime(df['timestamp'], unit='ms')\n",
    "        df.set_index('timestamp', inplace=True)\n",
    "        return df\n",
    "    except Exception as err:\n",
    "        print(f\"Error getting data: {err}\")\n",
    "        return None"
   ]
  },
  {
   "cell_type": "code",
   "execution_count": 4,
   "metadata": {},
   "outputs": [],
   "source": [
    "def apply_indicators(data):\n",
    "    data['SMA_10'] = ta.sma(data['close'], length=10)\n",
    "    data['SMA_20'] = ta.sma(data['close'], length=20)\n",
    "    data['EMA_10'] = ta.ema(data['close'], length=10)\n",
    "    macd_values = ta.macd(data['close'], fast=12, slow=26, signal=9)\n",
    "    data['MACD'] = macd_values['MACD_12_26_9']\n",
    "    data['MACD_signal'] = macd_values['MACDs_12_26_9']\n",
    "    data['RSI'] = ta.rsi(data['close'], length=14)\n",
    "    data['ATR'] = ta.atr(data['high'], data['low'], data['close'], length=14)\n",
    "    data['volatility'] = data['close'].rolling(window=10).std()\n",
    "    data.dropna(inplace=True)\n",
    "    return data"
   ]
  },
  {
   "cell_type": "code",
   "execution_count": 5,
   "metadata": {},
   "outputs": [],
   "source": [
    "def prep_model_data(df):\n",
    "    df['target'] = (df['close'].shift(-1) > df['close']).astype(int)\n",
    "    features = ['SMA_10', 'SMA_20', 'EMA_10', 'MACD', 'MACD_signal', 'RSI', 'ATR', 'volatility']\n",
    "    X = df[features]\n",
    "    y = df['target']\n",
    "    X_train, X_test, y_train, y_test = train_test_split(X, y, test_size=0.2, random_state=42)\n",
    "    scaler = StandardScaler()\n",
    "    X_train = scaler.fit_transform(X_train)\n",
    "    X_test = scaler.transform(X_test)\n",
    "    return X_train, X_test, y_train, y_test, scaler\n",
    "\n",
    "def save_model(model, scaler, model_file='gb_model.pkl', scaler_file='scaler.pkl'):\n",
    "    joblib.dump(model, model_file)\n",
    "    joblib.dump(scaler, scaler_file)\n",
    "    print(f\"Model and scaler saved as '{model_file}' and '{scaler_file}'\")"
   ]
  },
  {
   "cell_type": "code",
   "execution_count": 6,
   "metadata": {},
   "outputs": [],
   "source": [
    "def store_data_to_bigquery(data, table_id):\n",
    "    try:\n",
    "        data.to_gbq(destination_table=table_id, project_id=project_id, if_exists='replace', credentials=credentials)\n",
    "        print(f\"Data successfully saved to BigQuery table: {table_id}\")\n",
    "    except Exception as err:\n",
    "        print(f\"Error saving data to BigQuery: {err}\")"
   ]
  },
  {
   "cell_type": "code",
   "execution_count": 7,
   "metadata": {},
   "outputs": [],
   "source": [
    "def publish_notification(message):\n",
    "    try:\n",
    "        message_json = json.dumps(message)\n",
    "        message_bytes = message_json.encode('utf-8')\n",
    "        publisher.publish(pubsub_topic, data=message_bytes)\n",
    "        print(f\"Notification sent: {message}\")\n",
    "    except Exception as err:\n",
    "        print(f\"Error publishing notification: {err}\")"
   ]
  },
  {
   "cell_type": "code",
   "execution_count": 8,
   "metadata": {},
   "outputs": [],
   "source": [
    "market_name = \"kucoin\"\n",
    "asset_pair = \"BTC/USDT\"\n",
    "interval = \"15m\"\n",
    "start_date = int(time.mktime(time.strptime('2020-01-01', '%Y-%m-%d'))) * 1000\n",
    "\n",
    "data = get_market_data(market_name, asset_pair, interval, start_date)"
   ]
  },
  {
   "cell_type": "code",
   "execution_count": 10,
   "metadata": {},
   "outputs": [
    {
     "name": "stdout",
     "output_type": "stream",
     "text": [
      "Data successfully saved to BigQuery table: bitcoin_prices.prices\n",
      "Model Accuracy: 0.5323618809225819\n",
      "              precision    recall  f1-score   support\n",
      "\n",
      "           0       0.53      0.51      0.52     16736\n",
      "           1       0.53      0.56      0.54     16822\n",
      "\n",
      "    accuracy                           0.53     33558\n",
      "   macro avg       0.53      0.53      0.53     33558\n",
      "weighted avg       0.53      0.53      0.53     33558\n",
      "\n",
      "Model and scaler saved as 'gb_model.pkl' and 'scaler.pkl'\n",
      "Notification sent: {'model_accuracy': 0.5323618809225819, 'message': 'Model training completed and saved', 'timestamp': 1728876631.7697833}\n"
     ]
    }
   ],
   "source": [
    "if data is not None:\n",
    "    # Store market data in BigQuery\n",
    "    store_data_to_bigquery(data, 'bitcoin_prices.prices')\n",
    "\n",
    "    data_with_features = apply_indicators(data)\n",
    "    X_train, X_test, y_train, y_test, scaler = prep_model_data(data_with_features)\n",
    "\n",
    "    classifier = GradientBoostingClassifier(n_estimators=300, learning_rate=0.1, max_depth=5, random_state=42)\n",
    "    classifier.fit(X_train, y_train)\n",
    "\n",
    "    y_pred = classifier.predict(X_test)\n",
    "    accuracy = accuracy_score(y_test, y_pred)\n",
    "    print(f\"Model Accuracy: {accuracy}\")\n",
    "    print(classification_report(y_test, y_pred))\n",
    "\n",
    "    save_model(classifier, scaler)\n",
    "\n",
    "    # Publish notification to Pub/Sub\n",
    "    message = {\n",
    "        'model_accuracy': accuracy,\n",
    "        'message': 'Model training completed and saved',\n",
    "        'timestamp': time.time()\n",
    "    }\n",
    "    publish_notification(message)\n",
    "else:\n",
    "    print(\"Failed to fetch market data. Please verify your parameters.\")"
   ]
  }
 ],
 "metadata": {
  "kernelspec": {
   "display_name": "venv",
   "language": "python",
   "name": "python3"
  },
  "language_info": {
   "codemirror_mode": {
    "name": "ipython",
    "version": 3
   },
   "file_extension": ".py",
   "mimetype": "text/x-python",
   "name": "python",
   "nbconvert_exporter": "python",
   "pygments_lexer": "ipython3",
   "version": "3.12.1"
  }
 },
 "nbformat": 4,
 "nbformat_minor": 2
}
