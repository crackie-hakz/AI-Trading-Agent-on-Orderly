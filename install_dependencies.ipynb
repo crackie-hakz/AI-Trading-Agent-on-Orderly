{
 "cells": [
  {
   "cell_type": "code",
   "execution_count": null,
   "metadata": {},
   "outputs": [],
   "source": [
    "!pip install PyNaCl eth-typeshed-py python-dotenv pandas_ta pandas ccxt scikit-learn numpy==1.26.4 emp-orderly-types emp-orderly google-auth google-cloud-pubsub google-cloud-bigquery pandas-gbq"
   ]
  }
 ],
 "metadata": {
  "kernelspec": {
   "display_name": "venv",
   "language": "python",
   "name": "python3"
  },
  "language_info": {
   "codemirror_mode": {
    "name": "ipython",
    "version": 3
   },
   "file_extension": ".py",
   "mimetype": "text/x-python",
   "name": "python",
   "nbconvert_exporter": "python",
   "pygments_lexer": "ipython3",
   "version": "3.12.1"
  }
 },
 "nbformat": 4,
 "nbformat_minor": 2
}
